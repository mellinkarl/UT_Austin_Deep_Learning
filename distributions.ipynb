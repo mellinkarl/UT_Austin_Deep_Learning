{
 "cells": [
  {
   "cell_type": "code",
   "execution_count": 3,
   "id": "4daa2f48",
   "metadata": {},
   "outputs": [],
   "source": [
    "import torch\n",
    "import torch.distributions as dist\n"
   ]
  },
  {
   "cell_type": "code",
   "execution_count": null,
   "id": "fd1099d6",
   "metadata": {},
   "outputs": [
    {
     "name": "stdout",
     "output_type": "stream",
     "text": [
      "Bernoulli(probs: tensor([0.5000]))\n",
      "tensor([1.])\n"
     ]
    }
   ],
   "source": [
    "# Bernoulli Distribution\n",
    "bernoulli = dist.Bernoulli(torch.tensor([0.5]))\n",
    "\n",
    "print(bernoulli)\n",
    "# Sample from the distribution\n",
    "print(bernoulli.sample())\n"
   ]
  },
  {
   "cell_type": "code",
   "execution_count": 9,
   "id": "e6626b70",
   "metadata": {},
   "outputs": [
    {
     "name": "stdout",
     "output_type": "stream",
     "text": [
      "Mean of samples: 0.47699999809265137\n",
      "Variance of samples: 0.2497207224369049\n"
     ]
    }
   ],
   "source": [
    "samples = [bernoulli.sample() for _ in range(1000)]\n",
    "print(f\"Mean of samples: {torch.mean(torch.stack(samples))}\")\n",
    "print(f\"Variance of samples: {torch.var(torch.stack(samples))}\")"
   ]
  },
  {
   "cell_type": "code",
   "execution_count": 18,
   "id": "716a94fb",
   "metadata": {},
   "outputs": [
    {
     "name": "stdout",
     "output_type": "stream",
     "text": [
      "tensor([[-0.2542],\n",
      "        [-0.0367],\n",
      "        [ 0.2710],\n",
      "        [-0.4742],\n",
      "        [-0.6289],\n",
      "        [-1.0851],\n",
      "        [ 0.6954],\n",
      "        [ 0.2069],\n",
      "        [-2.2898],\n",
      "        [ 1.4903]])\n"
     ]
    }
   ],
   "source": [
    "## Gaussian Distribution\n",
    "normal = dist.Normal(torch.tensor([0.0]), torch.tensor([1.0]))\n",
    "print(normal.sample((10,)))"
   ]
  },
  {
   "cell_type": "code",
   "execution_count": 20,
   "id": "05eb0fee",
   "metadata": {},
   "outputs": [
    {
     "name": "stdout",
     "output_type": "stream",
     "text": [
      "Mean of samples: 0.06498062610626221\n",
      "Variance of samples: 0.974444568157196\n"
     ]
    }
   ],
   "source": [
    "samples = [normal.sample() for _ in range(1000)]\n",
    "print(f\"Mean of samples: {torch.mean(torch.stack(samples))}\")\n",
    "print(f\"Variance of samples: {torch.var(torch.stack(samples))}\")"
   ]
  }
 ],
 "metadata": {
  "kernelspec": {
   "display_name": "base",
   "language": "python",
   "name": "python3"
  },
  "language_info": {
   "codemirror_mode": {
    "name": "ipython",
    "version": 3
   },
   "file_extension": ".py",
   "mimetype": "text/x-python",
   "name": "python",
   "nbconvert_exporter": "python",
   "pygments_lexer": "ipython3",
   "version": "3.13.5"
  }
 },
 "nbformat": 4,
 "nbformat_minor": 5
}
