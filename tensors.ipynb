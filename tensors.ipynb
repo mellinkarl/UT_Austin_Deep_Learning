{
 "cells": [
  {
   "cell_type": "code",
   "execution_count": 2,
   "id": "1e899877",
   "metadata": {},
   "outputs": [],
   "source": [
    "import torch\n",
    "\n"
   ]
  },
  {
   "cell_type": "code",
   "execution_count": 3,
   "id": "e8a04c78",
   "metadata": {},
   "outputs": [],
   "source": [
    "a = torch.tensor([1,2,3])\n"
   ]
  },
  {
   "cell_type": "code",
   "execution_count": 4,
   "id": "0a832b3b",
   "metadata": {},
   "outputs": [
    {
     "name": "stdout",
     "output_type": "stream",
     "text": [
      "tensor([[[0.1663, 0.8348, 0.7823],\n",
      "         [0.2412, 0.7862, 0.0835],\n",
      "         [0.8450, 0.2141, 0.4053]],\n",
      "\n",
      "        [[0.8121, 0.6263, 0.4646],\n",
      "         [0.6900, 0.3530, 0.5891],\n",
      "         [0.5382, 0.0620, 0.3753]],\n",
      "\n",
      "        [[0.4203, 0.5521, 0.7760],\n",
      "         [0.8438, 0.5625, 0.8396],\n",
      "         [0.3237, 0.3861, 0.9227]]])\n"
     ]
    }
   ],
   "source": [
    "b = torch.rand([3,3,3], dtype=torch.float32)\n",
    "print(b)"
   ]
  },
  {
   "cell_type": "code",
   "execution_count": 5,
   "id": "e94d8183",
   "metadata": {},
   "outputs": [
    {
     "name": "stdout",
     "output_type": "stream",
     "text": [
      "torch.Size([500, 591, 3])\n"
     ]
    }
   ],
   "source": [
    "from PIL import Image\n",
    "import numpy as np\n",
    "\n",
    "img = Image.open(\"./flowers/flowers-102/jpg/image_00001.jpg\")\n",
    "c = torch.as_tensor(np.array(img))\n",
    "print(c.shape)"
   ]
  },
  {
   "cell_type": "code",
   "execution_count": 6,
   "id": "fe242c8c",
   "metadata": {},
   "outputs": [
    {
     "name": "stdout",
     "output_type": "stream",
     "text": [
      "a + b = tensor([ 1.,  2.,  3.,  4.,  5.,  6.,  7.,  8.,  9., 10.])\n"
     ]
    }
   ],
   "source": [
    "a = torch.arange(10)\n",
    "b = torch.ones(10)\n",
    "print(f'{a + b = }')"
   ]
  },
  {
   "cell_type": "code",
   "execution_count": 7,
   "id": "47ebdea0",
   "metadata": {},
   "outputs": [
    {
     "name": "stdout",
     "output_type": "stream",
     "text": [
      "297 μs ± 24.4 μs per loop (mean ± std. dev. of 7 runs, 1,000 loops each)\n"
     ]
    }
   ],
   "source": [
    "a = torch.rand(1_000_000)\n",
    "b = torch.rand(1_000_000)\n",
    "%timeit c = a + b"
   ]
  },
  {
   "cell_type": "code",
   "execution_count": 10,
   "id": "fa7d5554",
   "metadata": {},
   "outputs": [
    {
     "name": "stdout",
     "output_type": "stream",
     "text": [
      "tensor([[[0.3151, 0.9537, 0.4113, 0.6528],\n",
      "         [0.6088, 0.6566, 0.7498, 0.0191],\n",
      "         [0.0124, 0.7538, 0.7249, 0.0538]],\n",
      "\n",
      "        [[0.2829, 0.3729, 0.5808, 0.4990],\n",
      "         [0.8833, 0.2716, 0.3813, 0.8831],\n",
      "         [0.6659, 0.2632, 0.6418, 0.6112]]])\n",
      "tensor([[[0.3151, 0.2829],\n",
      "         [0.9537, 0.3729],\n",
      "         [0.4113, 0.5808],\n",
      "         [0.6528, 0.4990]],\n",
      "\n",
      "        [[0.6088, 0.8833],\n",
      "         [0.6566, 0.2716],\n",
      "         [0.7498, 0.3813],\n",
      "         [0.0191, 0.8831]],\n",
      "\n",
      "        [[0.0124, 0.6659],\n",
      "         [0.7538, 0.2632],\n",
      "         [0.7249, 0.6418],\n",
      "         [0.0538, 0.6112]]])\n"
     ]
    }
   ],
   "source": [
    "a = torch.rand(2,3,4)\n",
    "print(a)\n",
    "print(a.permute(1,2,0))\n"
   ]
  },
  {
   "cell_type": "markdown",
   "id": "52de01bd",
   "metadata": {},
   "source": []
  },
  {
   "cell_type": "code",
   "execution_count": null,
   "id": "3b7eae7f",
   "metadata": {},
   "outputs": [
    {
     "name": "stdout",
     "output_type": "stream",
     "text": [
      "torch.Size([3, 2, 1])\n"
     ]
    }
   ],
   "source": [
    "a = torch.arange(6).view(3,2,1,1)\n",
    "print(a.squeeze(0).shape)"
   ]
  }
 ],
 "metadata": {
  "kernelspec": {
   "display_name": "base",
   "language": "python",
   "name": "python3"
  },
  "language_info": {
   "codemirror_mode": {
    "name": "ipython",
    "version": 3
   },
   "file_extension": ".py",
   "mimetype": "text/x-python",
   "name": "python",
   "nbconvert_exporter": "python",
   "pygments_lexer": "ipython3",
   "version": "3.13.5"
  }
 },
 "nbformat": 4,
 "nbformat_minor": 5
}
