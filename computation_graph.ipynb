{
 "cells": [
  {
   "cell_type": "code",
   "execution_count": 2,
   "id": "cb96bfc0",
   "metadata": {},
   "outputs": [],
   "source": [
    "import torch"
   ]
  },
  {
   "cell_type": "code",
   "execution_count": 6,
   "id": "8ecc14f5",
   "metadata": {},
   "outputs": [
    {
     "name": "stdout",
     "output_type": "stream",
     "text": [
      "tensor(0.3386, grad_fn=<MeanBackward0>)\n"
     ]
    }
   ],
   "source": [
    "x = torch.randn(10, requires_grad=True)\n",
    "b = (x**2).mean()\n",
    "print(b)\n",
    "b.backward()"
   ]
  },
  {
   "cell_type": "code",
   "execution_count": 9,
   "id": "66b55d9b",
   "metadata": {},
   "outputs": [
    {
     "name": "stdout",
     "output_type": "stream",
     "text": [
      "tensor([ 0.0049,  0.1086, -0.0005,  0.1836, -0.0527, -0.0622, -0.0783,  0.0043,\n",
      "        -0.0108,  0.2775])\n"
     ]
    }
   ],
   "source": [
    "print(x.grad)"
   ]
  },
  {
   "cell_type": "code",
   "execution_count": 16,
   "id": "38dade03",
   "metadata": {},
   "outputs": [],
   "source": [
    "x = torch.rand(2**20, requires_grad=True, device='mps')\n",
    "b = x\n",
    "for _ in range(100):\n",
    "    b = torch.relu(b)"
   ]
  },
  {
   "cell_type": "code",
   "execution_count": 17,
   "id": "07c08fe8",
   "metadata": {},
   "outputs": [],
   "source": [
    "b.sum().backward()\n"
   ]
  },
  {
   "cell_type": "code",
   "execution_count": 18,
   "id": "2be8f5e4",
   "metadata": {},
   "outputs": [
    {
     "data": {
      "text/plain": [
       "tensor([1., 1., 1.,  ..., 1., 1., 1.], device='mps:0')"
      ]
     },
     "execution_count": 18,
     "metadata": {},
     "output_type": "execute_result"
    }
   ],
   "source": [
    "x.grad"
   ]
  }
 ],
 "metadata": {
  "kernelspec": {
   "display_name": "base",
   "language": "python",
   "name": "python3"
  },
  "language_info": {
   "codemirror_mode": {
    "name": "ipython",
    "version": 3
   },
   "file_extension": ".py",
   "mimetype": "text/x-python",
   "name": "python",
   "nbconvert_exporter": "python",
   "pygments_lexer": "ipython3",
   "version": "3.13.5"
  }
 },
 "nbformat": 4,
 "nbformat_minor": 5
}
