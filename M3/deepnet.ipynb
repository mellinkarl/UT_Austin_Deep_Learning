{
 "cells": [
  {
   "cell_type": "code",
   "execution_count": 1,
   "id": "c93261af",
   "metadata": {},
   "outputs": [],
   "source": [
    "import torch"
   ]
  },
  {
   "cell_type": "code",
   "execution_count": null,
   "id": "4db9a5d8",
   "metadata": {},
   "outputs": [
    {
     "name": "stdout",
     "output_type": "stream",
     "text": [
      "tensor([[0.3757]], grad_fn=<AddmmBackward0>)\n"
     ]
    }
   ],
   "source": [
    "class Net(torch.nn.Module):\n",
    "    def __init__(self):\n",
    "        super().__init__()\n",
    "        self.fc1_x = torch.nn.Linear(1, 10)\n",
    "        self.fc1_y = torch.nn.Linear(1, 10)\n",
    "        self.fc2 = torch.nn.Linear(10, 1)\n",
    "        self.act = torch.nn.ReLU()\n",
    "\n",
    "    def forward(self, x: torch.Tensor, y: torch.Tensor) -> torch.Tensor:\n",
    "        x = self.fc1_x(x)\n",
    "        x = self.act(x)\n",
    "        y = self.fc1_y(y)\n",
    "        y = self.act(y)\n",
    "        return self.fc2(x + y)\n",
    "    \n",
    "net = Net()\n",
    "r = net(torch.tensor([[1.0]]), torch.tensor([[2.0]]))\n",
    "r.backward()\n",
    "print(r)"
   ]
  }
 ],
 "metadata": {
  "kernelspec": {
   "display_name": "base",
   "language": "python",
   "name": "python3"
  },
  "language_info": {
   "codemirror_mode": {
    "name": "ipython",
    "version": 3
   },
   "file_extension": ".py",
   "mimetype": "text/x-python",
   "name": "python",
   "nbconvert_exporter": "python",
   "pygments_lexer": "ipython3",
   "version": "3.13.5"
  }
 },
 "nbformat": 4,
 "nbformat_minor": 5
}
