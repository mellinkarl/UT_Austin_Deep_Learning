{
 "cells": [
  {
   "cell_type": "code",
   "execution_count": 2,
   "id": "23a1d30a",
   "metadata": {},
   "outputs": [],
   "source": [
    "import torch\n",
    "import torch.nn as nn"
   ]
  },
  {
   "cell_type": "code",
   "execution_count": 3,
   "id": "2ec6e0ba",
   "metadata": {},
   "outputs": [],
   "source": [
    "model = nn.Linear(10, 1)"
   ]
  },
  {
   "cell_type": "code",
   "execution_count": null,
   "id": "f341fd19",
   "metadata": {},
   "outputs": [
    {
     "name": "stdout",
     "output_type": "stream",
     "text": [
      "tensor([0., 0., 0., 0., 0., 0., 0., 0., 0., 0.])\n"
     ]
    },
    {
     "data": {
      "text/plain": [
       "tensor([-0.0952], grad_fn=<ViewBackward0>)"
      ]
     },
     "execution_count": 6,
     "metadata": {},
     "output_type": "execute_result"
    }
   ],
   "source": [
    "x = torch.zeros(10)\n",
    "model(x)"
   ]
  },
  {
   "cell_type": "code",
   "execution_count": 10,
   "id": "012e1ba3",
   "metadata": {},
   "outputs": [
    {
     "data": {
      "text/plain": [
       "tensor([0.4612], grad_fn=<SigmoidBackward0>)"
      ]
     },
     "execution_count": 10,
     "metadata": {},
     "output_type": "execute_result"
    }
   ],
   "source": [
    "class LinearClassifier(torch.nn.Module):\n",
    "    def __init__(self, input_dim, output_dim) -> None:\n",
    "        super().__init__()\n",
    "        self.linear = torch.nn.Linear(input_dim, output_dim)\n",
    "\n",
    "    def forward(self, x):\n",
    "        return nn.functional.sigmoid(self.linear(x))\n",
    "    \n",
    "model = LinearClassifier(10, 1)\n",
    "x = torch.zeros(10)\n",
    "model(x)"
   ]
  },
  {
   "cell_type": "code",
   "execution_count": 12,
   "id": "d58c907e",
   "metadata": {},
   "outputs": [
    {
     "data": {
      "text/plain": [
       "tensor([[0.3344, 0.1210, 0.2126, 0.3321],\n",
       "        [0.4743, 0.1605, 0.1974, 0.1679],\n",
       "        [0.3098, 0.1343, 0.2858, 0.2702],\n",
       "        [0.3580, 0.1929, 0.2146, 0.2344],\n",
       "        [0.4264, 0.1238, 0.2100, 0.2397],\n",
       "        [0.3809, 0.1608, 0.2237, 0.2347],\n",
       "        [0.3112, 0.1413, 0.2240, 0.3234],\n",
       "        [0.4376, 0.1317, 0.1919, 0.2387],\n",
       "        [0.4306, 0.1578, 0.2364, 0.1752],\n",
       "        [0.3250, 0.1874, 0.2370, 0.2506],\n",
       "        [0.4280, 0.1412, 0.1778, 0.2530],\n",
       "        [0.4161, 0.1876, 0.1999, 0.1964],\n",
       "        [0.4408, 0.1539, 0.2143, 0.1910],\n",
       "        [0.4320, 0.1742, 0.1987, 0.1950],\n",
       "        [0.4735, 0.1132, 0.1874, 0.2259],\n",
       "        [0.3588, 0.1554, 0.1984, 0.2874],\n",
       "        [0.3471, 0.1626, 0.2443, 0.2460],\n",
       "        [0.3528, 0.1814, 0.2305, 0.2353],\n",
       "        [0.4365, 0.1605, 0.1565, 0.2465],\n",
       "        [0.3824, 0.1588, 0.2506, 0.2082]], grad_fn=<SoftmaxBackward0>)"
      ]
     },
     "execution_count": 12,
     "metadata": {},
     "output_type": "execute_result"
    }
   ],
   "source": [
    "class LinearClassifier(torch.nn.Module):\n",
    "    def __init__(self, input_dim, n_classes) -> None:\n",
    "        super().__init__()\n",
    "        self.linear = torch.nn.Linear(input_dim, n_classes)\n",
    "\n",
    "    def forward(self, x):\n",
    "        return nn.functional.softmax(self.linear(x), dim=-1)\n",
    "    \n",
    "model = LinearClassifier(10, 4)\n",
    "x = torch.rand(20,10)\n",
    "model(x)"
   ]
  }
 ],
 "metadata": {
  "kernelspec": {
   "display_name": "base",
   "language": "python",
   "name": "python3"
  },
  "language_info": {
   "codemirror_mode": {
    "name": "ipython",
    "version": 3
   },
   "file_extension": ".py",
   "mimetype": "text/x-python",
   "name": "python",
   "nbconvert_exporter": "python",
   "pygments_lexer": "ipython3",
   "version": "3.13.5"
  }
 },
 "nbformat": 4,
 "nbformat_minor": 5
}
