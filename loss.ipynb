{
 "cells": [
  {
   "cell_type": "code",
   "execution_count": 1,
   "id": "5bef2f54",
   "metadata": {},
   "outputs": [],
   "source": [
    "import torch"
   ]
  },
  {
   "cell_type": "code",
   "execution_count": 2,
   "id": "5dfccce8",
   "metadata": {},
   "outputs": [],
   "source": [
    "model = torch.nn.Linear(10, 1)"
   ]
  },
  {
   "cell_type": "code",
   "execution_count": 3,
   "id": "4ac224d4",
   "metadata": {},
   "outputs": [],
   "source": [
    "x = torch.randn(20, 10)\n",
    "y = torch.randn(20, 1)"
   ]
  },
  {
   "cell_type": "code",
   "execution_count": 4,
   "id": "e28fa2d8",
   "metadata": {},
   "outputs": [],
   "source": [
    "pred_y = model(x)"
   ]
  },
  {
   "cell_type": "code",
   "execution_count": 5,
   "id": "401b2662",
   "metadata": {},
   "outputs": [
    {
     "data": {
      "text/plain": [
       "tensor(1.6463, grad_fn=<MeanBackward0>)"
      ]
     },
     "execution_count": 5,
     "metadata": {},
     "output_type": "execute_result"
    }
   ],
   "source": [
    "def mse_loss(pred_y, y):\n",
    "    return torch.mean((pred_y - y) ** 2)\n",
    "\n",
    "mse_loss(pred_y, y)"
   ]
  },
  {
   "cell_type": "code",
   "execution_count": 6,
   "id": "3eba8446",
   "metadata": {},
   "outputs": [],
   "source": [
    "y = (torch.randn(20,1) > 0).float()"
   ]
  },
  {
   "cell_type": "code",
   "execution_count": 8,
   "id": "e62f2cfb",
   "metadata": {},
   "outputs": [
    {
     "name": "stdout",
     "output_type": "stream",
     "text": [
      "tensor(0.6920, grad_fn=<BinaryCrossEntropyWithLogitsBackward0>)\n"
     ]
    }
   ],
   "source": [
    "loss = torch.nn.functional.binary_cross_entropy_with_logits(pred_y, y)\n",
    "print(loss)"
   ]
  },
  {
   "cell_type": "code",
   "execution_count": 13,
   "id": "88208256",
   "metadata": {},
   "outputs": [],
   "source": [
    "n_classes = 3\n",
    "model = torch.nn.Linear(10, n_classes)\n",
    "y = (torch.randn(20) > 0).long() + (torch.randn(20) > 0).long()"
   ]
  },
  {
   "cell_type": "code",
   "execution_count": 15,
   "id": "25cbdff8",
   "metadata": {},
   "outputs": [
    {
     "name": "stdout",
     "output_type": "stream",
     "text": [
      "tensor([[-0.1837, -0.2811,  0.6130],\n",
      "        [ 0.2040,  0.6210, -0.1164],\n",
      "        [ 0.1213, -0.0914, -0.5706],\n",
      "        [-0.2062,  0.4612,  0.0930],\n",
      "        [ 0.1901, -0.1370, -0.4267],\n",
      "        [ 0.2036, -0.1024,  0.5854],\n",
      "        [ 0.1248,  0.7724, -0.2703],\n",
      "        [ 0.0192,  0.5554,  0.5577],\n",
      "        [-0.2637, -0.6512,  0.9051],\n",
      "        [-0.5658, -0.2764,  1.0884],\n",
      "        [ 0.2716, -0.5881, -0.5116],\n",
      "        [-0.0719, -0.1243, -0.0589],\n",
      "        [ 0.3468, -0.6656, -0.0020],\n",
      "        [ 0.3569, -0.6373, -1.1899],\n",
      "        [-0.1934,  0.1353, -0.1366],\n",
      "        [ 0.7656, -0.9696, -0.6650],\n",
      "        [ 0.2324,  0.6473, -0.4506],\n",
      "        [-0.0406,  0.8944,  0.0997],\n",
      "        [-0.4208,  0.4153, -0.2532],\n",
      "        [-1.3795,  0.9664,  0.3584]], grad_fn=<AddmmBackward0>)\n"
     ]
    }
   ],
   "source": [
    "pred_y = model(x)\n",
    "print(pred_y)\n",
    "loss = torch.nn.functional.cross_entropy(pred_y, y)"
   ]
  }
 ],
 "metadata": {
  "kernelspec": {
   "display_name": "base",
   "language": "python",
   "name": "python3"
  },
  "language_info": {
   "codemirror_mode": {
    "name": "ipython",
    "version": 3
   },
   "file_extension": ".py",
   "mimetype": "text/x-python",
   "name": "python",
   "nbconvert_exporter": "python",
   "pygments_lexer": "ipython3",
   "version": "3.13.5"
  }
 },
 "nbformat": 4,
 "nbformat_minor": 5
}
